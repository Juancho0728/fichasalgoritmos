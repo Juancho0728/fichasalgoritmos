{
  "nbformat": 4,
  "nbformat_minor": 0,
  "metadata": {
    "colab": {
      "provenance": [],
      "authorship_tag": "ABX9TyMsQgCx8laRuaR4tRKn8Rss",
      "include_colab_link": true
    },
    "kernelspec": {
      "name": "python3",
      "display_name": "Python 3"
    },
    "language_info": {
      "name": "python"
    }
  },
  "cells": [
    {
      "cell_type": "markdown",
      "metadata": {
        "id": "view-in-github",
        "colab_type": "text"
      },
      "source": [
        "<a href=\"https://colab.research.google.com/github/Juancho0728/fichasalgoritmos/blob/main/examenipynb.ipynb\" target=\"_parent\"><img src=\"https://colab.research.google.com/assets/colab-badge.svg\" alt=\"Open In Colab\"/></a>"
      ]
    },
    {
      "cell_type": "code",
      "execution_count": null,
      "metadata": {
        "id": "wJdrLqFPvNdL"
      },
      "outputs": [],
      "source": [
        "# se crea una lista llamada (a) y una varable llamada suma, se realiza un ciclo for\n",
        "# el cual recore la lista y imprime\n",
        "lista = [1,2,65,8,9,]\n",
        " for elemento in lista:\n",
        "    print(elemento)\n",
        "  while i <lent(lista):\n",
        "   print(lista[i])\n",
        "   i =\n",
        "\n",
        "\n"
      ]
    },
    {
      "cell_type": "markdown",
      "source": [
        "Escribe la estructura de código necesaria para que la función listados(a) reciba una lista por parámetro, recorra sus elementos utilizando un ciclo for y obtenga únicamente los dos primeros ítems de dicha lista.\n",
        "\n",
        "Además, incluye un comentario en el código explicando detalladamente por qué se obtiene ese resultado.\n",
        "\n",
        "Finalmente, comparte el enlace del ejercicio realizado en Google COLAB desarrollado y subido a un repositorio en GitHub."
      ],
      "metadata": {
        "id": "IJ-8N1JE9Ijx"
      }
    },
    {
      "cell_type": "code",
      "source": [
        "# se crea un diccionario el cual se contiene unos valores numericos\n",
        "a = [1,2,3,5,8,9,6]\n",
        "b = [9,6,5,7,2,6]\n",
        "# se llama la funcion la cual arranca de la posicion (0) para la posicion 3 se\n",
        "# llamaria el (2)\n",
        "a [2]"
      ],
      "metadata": {
        "id": "_TE0F7Tz1kO2"
      },
      "execution_count": null,
      "outputs": []
    },
    {
      "cell_type": "markdown",
      "source": [
        ". Escribe la estructura de código necesaria para acceder y obtener un diccionario que se encuentra en la posición 3 dentro de una lista.\n",
        "\n",
        "Además, incluye un comentario en el código explicando detalladamente por qué se obtiene ese resultado y cómo funciona el acceso a dicho elemento.\n",
        "\n",
        "Finalmente, comparte el enlace del ejercicio realizado en Google COLAB desarrollado y subido a un repositorio en GitHub."
      ],
      "metadata": {
        "id": "MzJaY06H9o-J"
      }
    },
    {
      "cell_type": "code",
      "source": [
        "# los bluques pueden ser for y while mientras tienen una diferencia principal, el\n",
        "# for con respecto al while Mientras que en el while la condición era evaluada en cada\n",
        "#iteración para decidir si volver a ejecutar o no el código, en el for no existe tal condición,\n",
        "#sino un iterable que define las veces que se ejecutará el código.\n",
        "\n",
        "a =[\"calvo\", \"blanco\",\"rubio\",\"moreno\"]\n",
        "\n",
        "def getA(param1):\n",
        "     for i in param1:\n",
        "\n",
        "       if i==\"calvo\":\n",
        "        print(i)\n",
        "getA(a)"
      ],
      "metadata": {
        "colab": {
          "base_uri": "https://localhost:8080/"
        },
        "id": "DrUYfYR29Y_t",
        "outputId": "d326c376-2c0f-4de5-e43b-a1da833422d2"
      },
      "execution_count": null,
      "outputs": [
        {
          "output_type": "stream",
          "name": "stdout",
          "text": [
            "calvo\n"
          ]
        }
      ]
    },
    {
      "cell_type": "markdown",
      "source": [
        "Explica con tus propias palabras qué son los loopers o bucles en Python, y para qué se utilizan específicamente mediante la estructura del ciclo for.\n",
        "\n",
        "Luego, escribe un ejemplo de código en Python utilizando el for, donde se evidencie su funcionamiento y utilidad.\n",
        "\n",
        "Esta explicación se incluirá en un comentario en el código explicando claramente por qué se obtiene el resultado mostrado y cuál es el propósito de usar este tipo de bucle en dicho contexto.\n",
        "\n",
        "Finalmente, comparte el enlace del ejercicio realizado en Google COLAB desarrollado y subido a un repositorio en GitHub."
      ],
      "metadata": {
        "id": "YFAXwPFC9w6l"
      }
    },
    {
      "cell_type": "code",
      "source": [],
      "metadata": {
        "id": "2EfNkp-EOdEd"
      },
      "execution_count": null,
      "outputs": []
    },
    {
      "cell_type": "code",
      "source": [
        "# se crea un diccionanio que almacena una informacion\n",
        "people = [\n",
        "    {\"name\": \"Carter\", \"number\": \"+1-617-495-1000\"},\n",
        "    {\"name\": \"David\", \"number\": \"+1-617-495-1000\"},\n",
        "    {\"name\": \"John\", \"number\": \"+1-949-468-2750\"}\n",
        "]\n",
        "# se crea una variable\n",
        "name = input(\"Name: \")\n",
        "# se crea un ciclo for en el cual se pedira que ingrese su nombre, si el nombre\n",
        "# no esta en esta en el diccionario se imprime (not found) si esta correcto en el\n",
        "# diccionaro se imprime el numero de telefono\n",
        "for person in people:\n",
        "    if person[\"name\"] == name:\n",
        "        number = person[\"number\"]\n",
        "        print(f\"Found {number}\")\n",
        "        break\n",
        "else:\n",
        "    print(\"Not found\")\n"
      ],
      "metadata": {
        "id": "Q-RYOVJe4oct"
      },
      "execution_count": null,
      "outputs": []
    },
    {
      "cell_type": "markdown",
      "source": [
        "En el CS50 Se discutió un ejercicio que mezclaba la estructura de Listas, Diccionarios if/else y for copia el codigo que te dejo a continuación y realiza los respectivos comentarios linea a linea y explica el por qué de sus salidas y adiciona mas abajo el enlace de todo el ejercicio en Github realizado en Google Colab"
      ],
      "metadata": {
        "id": "8F3SfV4b93Vp"
      }
    }
  ]
}
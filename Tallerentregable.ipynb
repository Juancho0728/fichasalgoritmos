{
  "nbformat": 4,
  "nbformat_minor": 0,
  "metadata": {
    "colab": {
      "provenance": [],
      "authorship_tag": "ABX9TyNhQZLsQT9O1ir4oqtRyZCH",
      "include_colab_link": true
    },
    "kernelspec": {
      "name": "python3",
      "display_name": "Python 3"
    },
    "language_info": {
      "name": "python"
    }
  },
  "cells": [
    {
      "cell_type": "markdown",
      "metadata": {
        "id": "view-in-github",
        "colab_type": "text"
      },
      "source": [
        "<a href=\"https://colab.research.google.com/github/Juancho0728/fichasalgoritmos/blob/main/Tallerentregable.ipynb\" target=\"_parent\"><img src=\"https://colab.research.google.com/assets/colab-badge.svg\" alt=\"Open In Colab\"/></a>"
      ]
    },
    {
      "cell_type": "markdown",
      "source": [
        "1 listas Definición : Las listas en Python son un tipo de dato que permite almacenar\n",
        " datos de cualquier tipo. Son mutables y dinámicas, lo cual es la principal\n",
        " diferencia con los sets y las tuplas.\n",
        " Las listas en Python son uno de los tipos o estructuras de datos más versátiles\n",
        " del lenguaje, ya que permiten almacenar un conjunto arbitrario de datos. Es\n",
        " decir, podemos guardar en ellas prácticamente lo que sea. Si vienes de otros\n",
        " lenguajes de programación, se podría decir que son similares a los arrays."
      ],
      "metadata": {
        "id": "JsAnZg7a_8Dz"
      }
    },
    {
      "cell_type": "code",
      "execution_count": null,
      "metadata": {
        "id": "_ukLO_qw3qL6"
      },
      "outputs": [],
      "source": [
        "# Las listas en python son una estructura de datos muy versatil que permite\n",
        "# almacenar una coleccion ordenada de elementos.\n",
        "mi_lista = [1, 2 ,3 , 4, 5]\n",
        "\n",
        "for elemento in mi_lista:\n",
        "  print(elemento)\n",
        "\n",
        "  i = 0\n",
        "  while i < len(mi_lista):\n",
        "       print(mi_lista[i])\n",
        "       i += 1"
      ]
    },
    {
      "cell_type": "code",
      "source": [
        "# se crea una lista llamada lista1 que contiene tres elementos numericos\n",
        "lista1 = [5, 9, 10]\n",
        "# se define otra lista llamada lista2 que contiene tres cadenas de texto\n",
        "# cada una representa un genero musical\n",
        "lista2 = [\"jazz\", \"rock\", \"djent\"]\n",
        "# Aqui ocurre la magia, el bucle for utiliza la funcion zip que combina\n",
        "# ambas listas elemento por elemento. El resultado es un conjunto de pares\n",
        "for l1, l2 in zip(lista1,lista2):\n",
        "# Basicamente, este codigo recorre las dos listas simultaneamente y muestra los\n",
        "# elemntos emparejados\n",
        "  print(l1,l2)"
      ],
      "metadata": {
        "id": "h7_wcAaX7Vth"
      },
      "execution_count": null,
      "outputs": []
    },
    {
      "cell_type": "markdown",
      "source": [
        "2.\tDiccionarios: Los diccionarios son colecciones no ordenadas de pares\n",
        "clave-valor. Permiten asociar valores a claves únicas, facilitando la búsqueda\n",
        "y recuperación de datos de manera eficiente."
      ],
      "metadata": {
        "id": "c3OVaez3AbFj"
      }
    },
    {
      "cell_type": "markdown",
      "source": [
        "Este es mi audio"
      ],
      "metadata": {
        "id": "lN_BHWPzAt4B"
      }
    },
    {
      "cell_type": "code",
      "source": [
        "# un diccionario en python es una coleccion de elementos, donde cada uno tiene\n",
        "# una llave (key) y un valor (value). Los diccionarios se pueden crear con\n",
        "# parentesis {} separando con una coma cada key: value.\n",
        "\n",
        "a = [1,2,3,4]\n",
        "b = [4,8,6,20,43,18]\n",
        "c = [9,12,[4,3,9],14,19]\n",
        "d = [21,[9,4,8],42,[6,4,8],3]\n",
        "e = {\"key\": \"juan\"}\n",
        "f = {\"key1\": \"mabel\", \"key2\": \"ramon\"}\n",
        "h = [1,2,{\"key\":\"noemi\"},4,6]\n",
        "g = [c,d,e,f,h]\n"
      ],
      "metadata": {
        "id": "klp57AycBU_C"
      },
      "execution_count": null,
      "outputs": []
    },
    {
      "cell_type": "code",
      "source": [
        "# Aqui se crea un diccionario llamado (a), donde cada clave (key) esta asociada a un valor que representa nombres\n",
        "a = { \"key\":\"Juan Esteban\",\"key1\":\"Lina\",\"key2\":\"Ana Maria\" }\n",
        "# Otro diccionario llamado (b) se define, con claves similares a las del diccionario anterior, pero los valores representan apellidos\n",
        "b = { \"key\":\"Paniagua Mesa\",\"key1\":\"Rua Mora\",\"key2\":\"Paniagua Rua\" }\n",
        "# Este diccionario (c) contiene valores numericos que representan edades\n",
        "c = { \"key\":\"41\",\"key1\":\"41\",\"key2\":\"12\" }\n",
        "# Aqui el diccionario (d) almacena direcciones de correo electronico\n",
        "d = { \"key\":\"j.esteban789@hotmail.com\",\"key1\":\"linarua0120@hotmail.com\",\"key2\":\"anamaria@pascualbravo\" }\n",
        "# El diccionario (e) contiene numeros de celular asociados a las mismas claves\n",
        "e = { \"key\":\"3008402213\",\"key1\":\"3008402214\",\"key2\":\"3225342321\" }\n",
        "# este diccionario (f) agrega claves en (key) y guarda colores como valores\n",
        "f = { \"key\":\"rojo\",\"key1\":\"morado\",\"key2\":\"verde\",\"key3\":\"morado\",\"key4\":\"amarillo\" }\n",
        "# este diccionario (g) tambien usa claves similares y contiene informacion de hijos como valores\n",
        "g = { \"key\":\"1 hijo\",\"key1\":\"2 hijos\",\"key2\":\"3 hijos\",\"key3\":\"4 hijos\" }\n",
        "# El diccionario (h) almacena nombres de ciudades en los valores de las mismas claves\n",
        "h = { \"key\":\"Medellin\",\"key1\":\"Cali\",\"key2\":\"Bogota\",\"key3\":\"Pereira\" }\n",
        "# Aqui se define una lista llamada (i) que contiene todos los diccionarios anteriores como elemtos\n",
        "i = [ a,b,c,d,e,f,g,h ]\n"
      ],
      "metadata": {
        "id": "ilxUffxOEuwi"
      },
      "execution_count": null,
      "outputs": []
    },
    {
      "cell_type": "markdown",
      "source": [
        "3. El for es un tipo de bucle, parecido al while pero con ciertas diferencias.\n",
        "La principal es que el número de iteraciones de un for esta definido de\n",
        "antemano, mientras que en un while no. La diferencia principal con respecto al\n",
        "while es en la condición. Mientras que en el while la condición era evaluada en\n",
        "cada iteración para decidir si volver a ejecutar o no el código, en el for no\n",
        "existe tal condición, sino un iterable que define las veces que se ejecutará el código."
      ],
      "metadata": {
        "id": "FBEUZS5mAzUg"
      }
    },
    {
      "cell_type": "markdown",
      "source": [
        "Este es mi audio"
      ],
      "metadata": {
        "id": "oeXbIgOiBDCx"
      }
    },
    {
      "cell_type": "code",
      "source": [
        "# Bucles (Loops): Los bucles permiten ejecutar un bloque de código repetidamente\n",
        "# mientras se cumpla una condición. En Python, existen dos tipos principales de bucles:\n",
        "a=[\"gordo\",\"calvo\",\"yuset\",\"blanco\"]\n",
        "\n",
        "def getA(param1):\n",
        " for i in param1:\n",
        "\n",
        "      if i==\"calvo\":\n",
        "        print(i)\n",
        "\n",
        "getA(a)"
      ],
      "metadata": {
        "id": "KyAnAFxfFHPg"
      },
      "execution_count": null,
      "outputs": []
    },
    {
      "cell_type": "code",
      "source": [
        "# Aqui se define una variable llamada (intentos) y se inicializa con el valor (3).\n",
        "# Esto representa la cantidad maxima de intentos que el usuario tiene para ingresar la contraseña correcta\n",
        "intentos = 3\n",
        "# Se le asigna el valor a la variable (contraseña correcta) Este sera el valor\n",
        "# que el usuario debera introducir para obtener acceso\n",
        "contraseña_correcta = \"12345\"\n",
        "# Este el bluque (while) que se ejecutara mientras la variable (intentos) sea mayor que cero\n",
        "while intentos > 0:\n",
        "# Solicita al usuario mediante este mensaje y se guarda en la variable contraseña\n",
        "  contraseña = input(\"ingrese su contraseña: \")\n",
        "# Aqui compruebas si la contraseña ingresada por el usuario es igual a al contraseña correcta\n",
        "  if contraseña == contraseña_correcta:\n",
        "# Se imprime el mensaje (contraseña correcta, acceso permitido) para informar al usuario que ingreso la contraseña correcta\n",
        "    print(\"contraseña correcta. acceso permitido \")\n",
        "# El bucle while se detiene inmediatamente porque se ha cumplido la condicion de acceso\n",
        "    break\n",
        "# Si la contraseña ingresada no concide con la correcta, se ejecutara este bloque de codigo alternativo\n",
        "  else:\n",
        "# Resta a los intentos a la variable (intentos) reduciendo el numero de intentos restantes del usuario\n",
        "      intentos -= 1\n",
        "# Aqui se imprime un mensaje que la contraseña es incorrecta y el numero restante de intentos\n",
        "      print(f\"contraseña incorrecta. intentos restantes: {intentos}\")\n",
        "# Si el numero de intentos llega a (0) se ejecutara este bloque de codigo\n",
        "  if intentos == 0:\n",
        "# Aqui se le informa al usuario que no tiene mas intentos y que el acceso ha sido denegado\n",
        "    print(\"se han agotado los intentos: Acceso denegado\")\n",
        "\n"
      ],
      "metadata": {
        "id": "75riQXlIIKiE"
      },
      "execution_count": null,
      "outputs": []
    },
    {
      "cell_type": "markdown",
      "source": [
        "4\tCondicionales (if/else): Las estructuras condicionales permiten ejecutar diferentes bloques de código según si una condición es verdadera o falsa.\n",
        "De no ser por las estructuras de control, el código en cualquier lenguaje de programación sería ejecutado secuencialmente hasta terminar. Un código, no deja de ser un conjunto de instrucciones que son ejecutadas unas tras otra. Gracias a las estructuras de control, podemos cambiar el flujo de ejecución de un programa, haciendo que ciertos bloques de código se ejecuten si y solo si se dan unas condiciones particulares.\n"
      ],
      "metadata": {
        "id": "xpTHkigvBG-l"
      }
    },
    {
      "cell_type": "markdown",
      "source": [
        "Este es audio"
      ],
      "metadata": {
        "id": "S1sftecpBQ45"
      }
    },
    {
      "cell_type": "code",
      "source": [
        "# 4\tCondicionales (if/else): Las estructuras condicionales permiten ejecutar\n",
        "# diferentes bloques de código según si una condición es verdadera o falsa.\n",
        "seleccion = input(\"ingrese la operacion a realizar:\")\n",
        "if \"resta\" == seleccion:\n",
        "  print(\"la resta es\", resta)\n",
        "elif \"suma\" == seleccion:\n",
        "  print(\"la suma es:\", \"suma\")"
      ],
      "metadata": {
        "id": "XlPr9_LlLBrl"
      },
      "execution_count": null,
      "outputs": []
    },
    {
      "cell_type": "code",
      "source": [
        "# Aqui se define una funcion llamada edad, que recibe un parametro (b). Este parametro\n",
        "# representa la edad que se evalua\n",
        "def edad(b):\n",
        "# La funcion verifica si el valor de (b) la edad es mayor o igual a (18)\n",
        "  if b >= 18:\n",
        "# Si la condicion es verdadera la funcion retorna la cadena (puede entrar a la fiesta)\n",
        "# indicando que la persona cumple con la edad minima para ingresar\n",
        "    return(\"Puede entrar a la fiesta bienvenido\")\n",
        "# si la condicion de  (b >=18) no se cumple el codigo ejecutara este bloque\n",
        "  else:\n",
        "# La funcion retorna la cadena (no puede ingresar a la fiesta sera en la proxima)\n",
        "# indicando que la persona no cumple con la edad minima para ingresar\n",
        "    return(\"No puede entrar a la fiesta sera en la proxima\")\n",
        "\n",
        "edad(23)"
      ],
      "metadata": {
        "id": "WKhQgJGfMlWD"
      },
      "execution_count": null,
      "outputs": []
    },
    {
      "cell_type": "markdown",
      "source": [
        "5. Operadores Booleanos y Matemáticos: Los operadores booleanos (and, or, not y sus comparadores) se utilizan para combinar condiciones lógicas. Los operadores matemáticos (+, -, *, /, %) realizan operaciones aritméticas.\n",
        "•\tSon los operadores y, o y no\n",
        "•\tEvalúan múltiples condiciones y determinan el valor de verdad global de una expresión\n",
        "•\tEl resultado de un operador booleano es otro booleano\n",
        "•\tPor ejemplo, True and True usa el operador and, y su resultado será True\n",
        "\n",
        "Operadores aritméticos\n",
        "•\tSon los operadores de suma (+), resta (-), multiplicación (), división (/), exponente (*), división por el suelo (//) y módulo (%)\n",
        "•\tPor ejemplo, 2 ** 3 significa que 2 se multiplica por sí mismo 3 veces, por lo que 2 ** 3 es igual a 8\n",
        "•\tProceden de las matemáticas básicas\n",
        "\n"
      ],
      "metadata": {
        "id": "Z7_UtQ33_1G9"
      }
    },
    {
      "cell_type": "markdown",
      "source": [
        "Este es mi audio"
      ],
      "metadata": {
        "id": "D1WuiL9NBdCw"
      }
    },
    {
      "cell_type": "code",
      "source": [
        "#5. Operadores Booleanos y Matemáticos: Los operadores booleanos (and, or, not y sus comparadores)\n",
        "# se utilizan para combinar condiciones lógicas. Los operadores matemáticos\n",
        " # (+, -, *, /, %) realizan operaciones aritméticas.\n",
        "# comparativos eq - lt - gt - lte - gte\n",
        "p = 6 == 4\n",
        "q = 4 < 8\n",
        "print(6 == 4)\n",
        "print(4 < 8)\n",
        "print(8 > 9)\n",
        "print(9 <= 9)\n",
        "print(10 >= 10)\n",
        "print(12 != 12)\n",
        "\n",
        "\n",
        "\n"
      ],
      "metadata": {
        "id": "-J_kJd7dQUUk"
      },
      "execution_count": null,
      "outputs": []
    },
    {
      "cell_type": "code",
      "source": [
        "from ast import Mult\n",
        "# este es un comentario\n",
        "b = int(input(\"ingrese un numero\"))\n",
        "c =int(input(\"ingrese un numero\"))\n",
        "\n",
        "suma = b + c\n",
        "resta = b - c\n",
        "mult = b * c\n",
        "div = b / c\n",
        "print (\"la suma es:\", suma)\n",
        "print (\"la resta es\", resta)\n",
        "print (\"la muilt es\", mult)\n",
        "print (\"la div es \", div)"
      ],
      "metadata": {
        "id": "gV8y6ltko2z5"
      },
      "execution_count": null,
      "outputs": []
    },
    {
      "cell_type": "code",
      "source": [
        "# Aqui se compara si la cadena (cama) es igual a la cadena (cama)\n",
        "# como ambas cadenas son identicas, el resultado de esta comparacion sera (true)\n",
        "print(\"cama\" == \"cama\")\n",
        "# En esta linea se compara si la cadena (mujer) es diferente de la cadena (hombre)\n",
        "# como las cadenas son distintas, el resultado de esta comparacion sera (true)\n",
        "print(\"mujer\" != \"hombre\")\n",
        "# Este caso se aplica al operador logico (not) a la expresion (true). El operador (not)\n",
        "# invierte el valor de verdad. Si la expresion en (true, not) la convierte en (false)\n",
        "# al ejecutarse esta linea, se imprimira (false)\n",
        "print(not True)"
      ],
      "metadata": {
        "id": "cvznf4rRmRz8"
      },
      "execution_count": null,
      "outputs": []
    },
    {
      "cell_type": "markdown",
      "source": [
        "6. Las funciones en Python son bloques de código reutilizables que realizan una tarea específica. Permiten organizar y modularizar el código, facilitando su mantenimiento y comprensión. Las funciones requieren de una entrada, un proceso y una salida. Se establece un (scope) para proteger las variables internas sin que se afecte lo externo.\n",
        "Anteriormente hemos usado funciones nativas que vienen con Python como len() para calcular la longitud de una lista, pero al igual que en otros lenguajes de programación, también podemos definir nuestras propias funciones. Para ello hacemos uso de def.\n"
      ],
      "metadata": {
        "id": "7pGrlizFB_qY"
      }
    },
    {
      "cell_type": "markdown",
      "source": [
        "Este es mi audio"
      ],
      "metadata": {
        "id": "ijIRT_snCCOz"
      }
    },
    {
      "cell_type": "code",
      "source": [
        "# Las funciones en Python son bloques de código reutilizables que realizan una\n",
        "# tarea específica. Permiten organizar y modularizar el código, facilitando su\n",
        "# mantenimiento y comprensión.\n",
        "def di_hola(nombre):\n",
        "    print(\"Hola\", nombre)\n",
        "di_hola(\"Juan\")\n"
      ],
      "metadata": {
        "id": "Dtwqw87YTk-O"
      },
      "execution_count": null,
      "outputs": []
    },
    {
      "cell_type": "code",
      "source": [
        "# Aqui se define una funcion llamada (suma) que acepta tres parametros (a)(b)(c)\n",
        "# los parametros (a y b) son obligatorios; el usuario debe proporcionarles un valor\n",
        "# al llamar a la funcion\n",
        "# el parametro (c) tiene un valor predeterminado de (0) esto significa que, si el\n",
        "# usuario no proporciona valor para (c) automaticamente se usara (0)\n",
        "def suma(a, b, c=0):\n",
        "# Esta linea calcula la suma de los tres parametros (a)(b)(c) y retorna el resultado\n",
        "# La palabra clave (return) significa que la funcion entrega este valor al lugar\n",
        "# donde fue llamada\n",
        "    return a+b+c\n"
      ],
      "metadata": {
        "id": "gWKqq-sfT-92"
      },
      "execution_count": null,
      "outputs": []
    }
  ]
}